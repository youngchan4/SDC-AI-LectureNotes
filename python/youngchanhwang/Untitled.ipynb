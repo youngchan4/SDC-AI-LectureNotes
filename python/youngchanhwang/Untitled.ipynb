{
 "cells": [
  {
   "cell_type": "code",
   "execution_count": 1,
   "id": "897fda9a-2ae6-4fc3-ada7-46e06cc6660b",
   "metadata": {},
   "outputs": [],
   "source": [
    "import numpy as np\n"
   ]
  },
  {
   "cell_type": "code",
   "execution_count": 2,
   "id": "39a5ce7a-ef18-4e32-9d60-5ad5a776a657",
   "metadata": {},
   "outputs": [],
   "source": [
    "x = [4, 12]\n",
    "y = [6, 19]\n",
    "\n",
    "u = np.array(x)\n",
    "v = np.array(y)\n",
    "w = u - v\n"
   ]
  },
  {
   "cell_type": "code",
   "execution_count": 3,
   "id": "f906998c-4386-4e49-afd1-7edfaabc507b",
   "metadata": {},
   "outputs": [
    {
     "data": {
      "text/plain": [
       "array([-2, -7])"
      ]
     },
     "execution_count": 3,
     "metadata": {},
     "output_type": "execute_result"
    }
   ],
   "source": [
    "w"
   ]
  },
  {
   "cell_type": "code",
   "execution_count": 8,
   "id": "f43825b5-cbfe-415c-bb22-0645dc125631",
   "metadata": {},
   "outputs": [
    {
     "name": "stdout",
     "output_type": "stream",
     "text": [
      " 0\t25.0000\t0.0000\t25.0000\n",
      "10\t24.6202\t4.3412\t4.3578\n",
      "20\t23.4923\t8.5505\t4.3578\n",
      "30\t21.6506\t12.5000\t4.3578\n",
      "40\t19.1511\t16.0697\t4.3578\n"
     ]
    }
   ],
   "source": [
    "import math\n",
    "\n",
    "degrees = [0, 10, 20, 30, 40] # 0, π/6, π/4, π/3, π/2 \n",
    "distance = 25\n",
    "xx = 0\n",
    "yy = 0\n",
    "\n",
    "for val in degrees:\n",
    "    a = math.sin(math.pi * (val / 180))\n",
    "    b = math.cos(math.pi * (val / 180))\n",
    "    x = b * distance\n",
    "    y = a * distance\n",
    "\n",
    "    c = x - xx\n",
    "    d = y - yy\n",
    "\n",
    "    z =  math.sqrt((c ** 2) + (d ** 2)) # 이전 좌표와의 거리 ( 얼마나 이동했나? )\n",
    "    print(f\"{val:2d}\\t{x:.4f}\\t{y:.4f}\\t{z:.4f}\")  # 이쁘게 출력\n",
    "\n",
    "    xx = x\n",
    "    yy = y"
   ]
  },
  {
   "cell_type": "code",
   "execution_count": null,
   "id": "7505b6a8-540e-425a-98ef-304c3eb59565",
   "metadata": {},
   "outputs": [],
   "source": []
  }
 ],
 "metadata": {
  "kernelspec": {
   "display_name": "Python 3 (ipykernel)",
   "language": "python",
   "name": "python3"
  },
  "language_info": {
   "codemirror_mode": {
    "name": "ipython",
    "version": 3
   },
   "file_extension": ".py",
   "mimetype": "text/x-python",
   "name": "python",
   "nbconvert_exporter": "python",
   "pygments_lexer": "ipython3",
   "version": "3.11.7"
  }
 },
 "nbformat": 4,
 "nbformat_minor": 5
}
